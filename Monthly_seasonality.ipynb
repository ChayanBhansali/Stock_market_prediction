{
 "cells": [
  {
   "cell_type": "code",
   "execution_count": null,
   "metadata": {},
   "outputs": [],
   "source": [
    "import yfinance as yf\n",
    "import pandas as pd\n",
    "import numpy as np\n",
    "import matplotlib.pyplot as plt\n",
    "import seaborn as sns\n",
    "\n",
    "# Define the stock ticker and the period for which you want to fetch data\n",
    "ticker = 'VBL.NS'  \n",
    "start_date = '2015-01-01'\n",
    "end_date = '2024-12-31'\n",
    "\n",
    "# Fetching and preprocessing data\n",
    "data = yf.download(ticker, start=start_date, end=end_date, interval='1mo')\n",
    "data['Monthly Return'] = data['Close'].pct_change() * 100\n",
    "data['Year'] = data.index.year\n",
    "data['Month'] = data.index.month\n",
    "\n",
    "# Creating heatmap\n",
    "heatmap_data = data.pivot_table(values='Monthly Return', index='Year', columns='Month')\n",
    "heatmap_data = heatmap_data[[1, 2, 3, 4, 5, 6, 7, 8, 9, 10, 11, 12]]\n",
    "heatmap_data.loc['Average'] = heatmap_data.mean()\n",
    "heatmap_data.loc['StdDev'] = heatmap_data.std()\n",
    "\n",
    "vmin, vmax = -5 , 5\n",
    "\n",
    "\n",
    "# ploting the heatmap\n",
    "plt.figure(figsize=(10, 6))\n",
    "sns.heatmap(heatmap_data, annot=True, fmt=\".2f\", cmap='coolwarm', center=0, vmin=vmin, vmax=vmax, linewidths=0.5, linecolor='black')\n",
    "plt.title(f'Monthly Performance Heatmap for {ticker}')\n",
    "plt.xlabel('Month')\n",
    "plt.ylabel('Year')\n",
    "\n",
    "month_labels = ['Jan', 'Feb', 'Mar', 'Apr', 'May', 'Jun', 'Jul', 'Aug', 'Sep', 'Oct', 'Nov', 'Dec']\n",
    "plt.xticks(ticks=np.arange(12) + 0.5, labels=month_labels)\n",
    "\n",
    "plt.yticks(np.arange(len(heatmap_data.index)) + 0.5, heatmap_data.index)\n",
    "\n",
    "\n",
    "plt.show()\n"
   ]
  }
 ],
 "metadata": {
  "language_info": {
   "name": "python"
  }
 },
 "nbformat": 4,
 "nbformat_minor": 2
}
