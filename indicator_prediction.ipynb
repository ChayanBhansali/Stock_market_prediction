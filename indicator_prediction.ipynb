{
 "cells": [
  {
   "cell_type": "code",
   "execution_count": 2,
   "metadata": {},
   "outputs": [
    {
     "name": "stderr",
     "output_type": "stream",
     "text": [
      "[*********************100%%**********************]  1 of 1 completed\n"
     ]
    }
   ],
   "source": [
    "import tensorflow as tf\n",
    "from tensorflow.keras.models import Sequential\n",
    "from tensorflow.keras.layers import Conv2D, MaxPooling2D, Flatten, Dense, Dropout\n",
    "import yfinance as yf\n",
    "import pandas as pd\n",
    "import numpy as np\n",
    "import matplotlib.pyplot as plt\n",
    "import seaborn as sns\n",
    "from sklearn.metrics import confusion_matrix, classification_report\n",
    "from finta import TA\n",
    "ticker = 'HDFCBANK.NS'  # Example: Apple Inc.\n",
    "start_date = '2000-01-01'\n",
    "end_date = '2024-12-31'\n",
    "\n",
    "# Fetch the historical data\n",
    "data = yf.download(ticker, start=start_date, end=end_date, interval='1d')\n",
    "data['change'] = ((data['Close'] - data['Open'])/data['Open'])*100\n",
    "data['change_shifted'] = data['change'].shift(-1)\n",
    "data['class'] = np.where(data['change_shifted'] > 0.5, 1, 0)\n",
    "\n"
   ]
  },
  {
   "cell_type": "code",
   "execution_count": 3,
   "metadata": {},
   "outputs": [],
   "source": [
    "ohlc = pd.DataFrame()\n",
    "ohlc['open'] = data['Open']\n",
    "ohlc['high'] = data['High']\n",
    "ohlc['low'] = data['Low']\n",
    "ohlc['close'] = data['Close'] \n",
    "ohlcv = pd.DataFrame()\n",
    "ohlcv['open'] = data['Open']\n",
    "ohlcv['high'] = data['High']\n",
    "ohlcv['low'] = data['Low']\n",
    "ohlcv['close'] = data['Close'] \n",
    "ohlcv['volume'] = data['Volume']"
   ]
  },
  {
   "cell_type": "code",
   "execution_count": 4,
   "metadata": {},
   "outputs": [],
   "source": [
    "bbands = TA.BBANDS(ohlc)\n",
    "ema = TA.EMA(ohlc)\n",
    "rsi = TA.RSI(ohlc)\n",
    "# stoch = TA.STOCHF(ohlc)\n",
    "macd = TA.MACD(ohlc)\n",
    "atr = TA.ATR(ohlc)\n",
    "vwap = TA.VWAP(ohlcv)\n",
    "obv = TA.OBV(ohlcv)\n",
    "tsi = TA.TSI(ohlc)\n",
    "mfi = TA.MFI(ohlcv)\n",
    "kc = TA.KC(ohlc)\n",
    "cci = TA.CCI(ohlc)\n",
    "adx = TA.ADX(ohlc)\n",
    "dmi = TA.DMI(ohlc)\n",
    "\n",
    "df = data.copy()\n",
    "df = pd.concat([df,bbands,ema,rsi,macd,atr,vwap,obv,tsi,mfi,kc,cci,adx,dmi],axis=1)"
   ]
  },
  {
   "cell_type": "code",
   "execution_count": 5,
   "metadata": {},
   "outputs": [
    {
     "data": {
      "text/plain": [
       "Open               0\n",
       "High               0\n",
       "Low                0\n",
       "Close              0\n",
       "Adj Close          0\n",
       "Volume             0\n",
       "change             0\n",
       "change_shifted     1\n",
       "class              0\n",
       "BB_UPPER           0\n",
       "BB_MIDDLE          0\n",
       "BB_LOWER           0\n",
       "9 period EMA       0\n",
       "14 period RSI      0\n",
       "MACD               0\n",
       "SIGNAL             0\n",
       "14 period ATR      0\n",
       "VWAP.              0\n",
       "OBV               91\n",
       "TSI                0\n",
       "signal            11\n",
       "14 period MFI      0\n",
       "KC_UPPER           0\n",
       "KC_LOWER           0\n",
       "20 period CCI      0\n",
       "14 period ADX.     0\n",
       "DI+                0\n",
       "DI-                0\n",
       "dtype: int64"
      ]
     },
     "execution_count": 5,
     "metadata": {},
     "output_type": "execute_result"
    }
   ],
   "source": [
    "cutoff_date = '2000-02-21'\n",
    "df_cut = df[df.index >= cutoff_date]\n",
    "nan_count = df_cut.isna().sum()\n",
    "nan_count"
   ]
  },
  {
   "cell_type": "code",
   "execution_count": 6,
   "metadata": {},
   "outputs": [
    {
     "data": {
      "text/plain": [
       "Open              0\n",
       "High              0\n",
       "Low               0\n",
       "Close             0\n",
       "Adj Close         0\n",
       "Volume            0\n",
       "change            0\n",
       "change_shifted    0\n",
       "class             0\n",
       "BB_UPPER          0\n",
       "BB_MIDDLE         0\n",
       "BB_LOWER          0\n",
       "9 period EMA      0\n",
       "14 period RSI     0\n",
       "MACD              0\n",
       "SIGNAL            0\n",
       "14 period ATR     0\n",
       "VWAP.             0\n",
       "TSI               0\n",
       "14 period MFI     0\n",
       "KC_UPPER          0\n",
       "KC_LOWER          0\n",
       "20 period CCI     0\n",
       "14 period ADX.    0\n",
       "DI+               0\n",
       "DI-               0\n",
       "dtype: int64"
      ]
     },
     "execution_count": 6,
     "metadata": {},
     "output_type": "execute_result"
    }
   ],
   "source": [
    "check = df_cut.drop('OBV' , axis=1)\n",
    "check = check.drop('signal' , axis=1)\n",
    "check = check.drop(check.index[-1])\n",
    "check.isna().sum()"
   ]
  },
  {
   "cell_type": "code",
   "execution_count": 7,
   "metadata": {},
   "outputs": [],
   "source": [
    "from sklearn.preprocessing import StandardScaler\n",
    "x = check.drop(['change_shifted' , 'class'] , axis=1)\n",
    "y = check['class']  \n",
    "scaler = StandardScaler()\n",
    "x = pd.DataFrame(scaler.fit_transform(x), columns=x.columns, index=x.index)\n",
    "from sklearn.model_selection import train_test_split\n",
    "X_train, X_test, y_train, y_test = train_test_split(x, y, test_size=0.1, random_state=42) "
   ]
  },
  {
   "cell_type": "markdown",
   "metadata": {},
   "source": [
    "### CNN Model"
   ]
  },
  {
   "cell_type": "code",
   "execution_count": 8,
   "metadata": {},
   "outputs": [
    {
     "name": "stdout",
     "output_type": "stream",
     "text": [
      "Epoch 1/50\n"
     ]
    },
    {
     "name": "stderr",
     "output_type": "stream",
     "text": [
      "/Users/lakhanbhansali/Documents/projects/Stock_market_prediction/env/lib/python3.11/site-packages/keras/src/layers/convolutional/base_conv.py:107: UserWarning: Do not pass an `input_shape`/`input_dim` argument to a layer. When using Sequential models, prefer using an `Input(shape)` object as the first layer in the model instead.\n",
      "  super().__init__(activity_regularizer=activity_regularizer, **kwargs)\n"
     ]
    },
    {
     "name": "stdout",
     "output_type": "stream",
     "text": [
      "\u001b[1m69/69\u001b[0m \u001b[32m━━━━━━━━━━━━━━━━━━━━\u001b[0m\u001b[37m\u001b[0m \u001b[1m3s\u001b[0m 8ms/step - accuracy: 0.6558 - loss: 0.6583 - val_accuracy: 0.6706 - val_loss: 0.6371\n",
      "Epoch 2/50\n",
      "\u001b[1m69/69\u001b[0m \u001b[32m━━━━━━━━━━━━━━━━━━━━\u001b[0m\u001b[37m\u001b[0m \u001b[1m0s\u001b[0m 5ms/step - accuracy: 0.6787 - loss: 0.6303 - val_accuracy: 0.6706 - val_loss: 0.6358\n",
      "Epoch 3/50\n",
      "\u001b[1m69/69\u001b[0m \u001b[32m━━━━━━━━━━━━━━━━━━━━\u001b[0m\u001b[37m\u001b[0m \u001b[1m0s\u001b[0m 5ms/step - accuracy: 0.6719 - loss: 0.6319 - val_accuracy: 0.6697 - val_loss: 0.6304\n",
      "Epoch 4/50\n",
      "\u001b[1m69/69\u001b[0m \u001b[32m━━━━━━━━━━━━━━━━━━━━\u001b[0m\u001b[37m\u001b[0m \u001b[1m0s\u001b[0m 5ms/step - accuracy: 0.6716 - loss: 0.6297 - val_accuracy: 0.6706 - val_loss: 0.6310\n",
      "Epoch 5/50\n",
      "\u001b[1m69/69\u001b[0m \u001b[32m━━━━━━━━━━━━━━━━━━━━\u001b[0m\u001b[37m\u001b[0m \u001b[1m0s\u001b[0m 5ms/step - accuracy: 0.6733 - loss: 0.6262 - val_accuracy: 0.6715 - val_loss: 0.6321\n",
      "Epoch 6/50\n",
      "\u001b[1m69/69\u001b[0m \u001b[32m━━━━━━━━━━━━━━━━━━━━\u001b[0m\u001b[37m\u001b[0m \u001b[1m0s\u001b[0m 5ms/step - accuracy: 0.6747 - loss: 0.6262 - val_accuracy: 0.6715 - val_loss: 0.6335\n",
      "Epoch 7/50\n",
      "\u001b[1m69/69\u001b[0m \u001b[32m━━━━━━━━━━━━━━━━━━━━\u001b[0m\u001b[37m\u001b[0m \u001b[1m0s\u001b[0m 5ms/step - accuracy: 0.6749 - loss: 0.6266 - val_accuracy: 0.6697 - val_loss: 0.6290\n",
      "Epoch 8/50\n",
      "\u001b[1m69/69\u001b[0m \u001b[32m━━━━━━━━━━━━━━━━━━━━\u001b[0m\u001b[37m\u001b[0m \u001b[1m0s\u001b[0m 4ms/step - accuracy: 0.6797 - loss: 0.6217 - val_accuracy: 0.6688 - val_loss: 0.6299\n",
      "Epoch 9/50\n",
      "\u001b[1m69/69\u001b[0m \u001b[32m━━━━━━━━━━━━━━━━━━━━\u001b[0m\u001b[37m\u001b[0m \u001b[1m0s\u001b[0m 4ms/step - accuracy: 0.6926 - loss: 0.6081 - val_accuracy: 0.6706 - val_loss: 0.6321\n",
      "Epoch 10/50\n",
      "\u001b[1m69/69\u001b[0m \u001b[32m━━━━━━━━━━━━━━━━━━━━\u001b[0m\u001b[37m\u001b[0m \u001b[1m0s\u001b[0m 5ms/step - accuracy: 0.6648 - loss: 0.6245 - val_accuracy: 0.6706 - val_loss: 0.6304\n",
      "Epoch 11/50\n",
      "\u001b[1m69/69\u001b[0m \u001b[32m━━━━━━━━━━━━━━━━━━━━\u001b[0m\u001b[37m\u001b[0m \u001b[1m0s\u001b[0m 5ms/step - accuracy: 0.6774 - loss: 0.6161 - val_accuracy: 0.6715 - val_loss: 0.6333\n",
      "Epoch 12/50\n",
      "\u001b[1m69/69\u001b[0m \u001b[32m━━━━━━━━━━━━━━━━━━━━\u001b[0m\u001b[37m\u001b[0m \u001b[1m0s\u001b[0m 6ms/step - accuracy: 0.6723 - loss: 0.6235 - val_accuracy: 0.6688 - val_loss: 0.6372\n",
      "Epoch 13/50\n",
      "\u001b[1m69/69\u001b[0m \u001b[32m━━━━━━━━━━━━━━━━━━━━\u001b[0m\u001b[37m\u001b[0m \u001b[1m0s\u001b[0m 4ms/step - accuracy: 0.6704 - loss: 0.6227 - val_accuracy: 0.6724 - val_loss: 0.6340\n",
      "Epoch 14/50\n",
      "\u001b[1m69/69\u001b[0m \u001b[32m━━━━━━━━━━━━━━━━━━━━\u001b[0m\u001b[37m\u001b[0m \u001b[1m0s\u001b[0m 4ms/step - accuracy: 0.6667 - loss: 0.6231 - val_accuracy: 0.6688 - val_loss: 0.6315\n",
      "Epoch 15/50\n",
      "\u001b[1m69/69\u001b[0m \u001b[32m━━━━━━━━━━━━━━━━━━━━\u001b[0m\u001b[37m\u001b[0m \u001b[1m0s\u001b[0m 5ms/step - accuracy: 0.6758 - loss: 0.6202 - val_accuracy: 0.6661 - val_loss: 0.6349\n",
      "Epoch 16/50\n",
      "\u001b[1m69/69\u001b[0m \u001b[32m━━━━━━━━━━━━━━━━━━━━\u001b[0m\u001b[37m\u001b[0m \u001b[1m0s\u001b[0m 4ms/step - accuracy: 0.6671 - loss: 0.6233 - val_accuracy: 0.6688 - val_loss: 0.6342\n",
      "Epoch 17/50\n",
      "\u001b[1m69/69\u001b[0m \u001b[32m━━━━━━━━━━━━━━━━━━━━\u001b[0m\u001b[37m\u001b[0m \u001b[1m0s\u001b[0m 5ms/step - accuracy: 0.6757 - loss: 0.6160 - val_accuracy: 0.6652 - val_loss: 0.6397\n",
      "Epoch 18/50\n",
      "\u001b[1m69/69\u001b[0m \u001b[32m━━━━━━━━━━━━━━━━━━━━\u001b[0m\u001b[37m\u001b[0m \u001b[1m0s\u001b[0m 5ms/step - accuracy: 0.6875 - loss: 0.6103 - val_accuracy: 0.6652 - val_loss: 0.6433\n",
      "Epoch 19/50\n",
      "\u001b[1m69/69\u001b[0m \u001b[32m━━━━━━━━━━━━━━━━━━━━\u001b[0m\u001b[37m\u001b[0m \u001b[1m0s\u001b[0m 5ms/step - accuracy: 0.6726 - loss: 0.6164 - val_accuracy: 0.6679 - val_loss: 0.6362\n",
      "Epoch 20/50\n",
      "\u001b[1m69/69\u001b[0m \u001b[32m━━━━━━━━━━━━━━━━━━━━\u001b[0m\u001b[37m\u001b[0m \u001b[1m0s\u001b[0m 4ms/step - accuracy: 0.6736 - loss: 0.6127 - val_accuracy: 0.6679 - val_loss: 0.6410\n",
      "Epoch 21/50\n",
      "\u001b[1m69/69\u001b[0m \u001b[32m━━━━━━━━━━━━━━━━━━━━\u001b[0m\u001b[37m\u001b[0m \u001b[1m0s\u001b[0m 4ms/step - accuracy: 0.6942 - loss: 0.5893 - val_accuracy: 0.6615 - val_loss: 0.6420\n",
      "Epoch 22/50\n",
      "\u001b[1m69/69\u001b[0m \u001b[32m━━━━━━━━━━━━━━━━━━━━\u001b[0m\u001b[37m\u001b[0m \u001b[1m0s\u001b[0m 4ms/step - accuracy: 0.6778 - loss: 0.6122 - val_accuracy: 0.6697 - val_loss: 0.6410\n",
      "Epoch 23/50\n",
      "\u001b[1m69/69\u001b[0m \u001b[32m━━━━━━━━━━━━━━━━━━━━\u001b[0m\u001b[37m\u001b[0m \u001b[1m0s\u001b[0m 5ms/step - accuracy: 0.6766 - loss: 0.6078 - val_accuracy: 0.6642 - val_loss: 0.6451\n",
      "Epoch 24/50\n",
      "\u001b[1m69/69\u001b[0m \u001b[32m━━━━━━━━━━━━━━━━━━━━\u001b[0m\u001b[37m\u001b[0m \u001b[1m0s\u001b[0m 5ms/step - accuracy: 0.6862 - loss: 0.6052 - val_accuracy: 0.6633 - val_loss: 0.6468\n",
      "Epoch 25/50\n",
      "\u001b[1m69/69\u001b[0m \u001b[32m━━━━━━━━━━━━━━━━━━━━\u001b[0m\u001b[37m\u001b[0m \u001b[1m0s\u001b[0m 5ms/step - accuracy: 0.6823 - loss: 0.6021 - val_accuracy: 0.6670 - val_loss: 0.6505\n",
      "Epoch 26/50\n",
      "\u001b[1m69/69\u001b[0m \u001b[32m━━━━━━━━━━━━━━━━━━━━\u001b[0m\u001b[37m\u001b[0m \u001b[1m0s\u001b[0m 5ms/step - accuracy: 0.6963 - loss: 0.5878 - val_accuracy: 0.6570 - val_loss: 0.6619\n",
      "Epoch 27/50\n",
      "\u001b[1m69/69\u001b[0m \u001b[32m━━━━━━━━━━━━━━━━━━━━\u001b[0m\u001b[37m\u001b[0m \u001b[1m0s\u001b[0m 5ms/step - accuracy: 0.6846 - loss: 0.5969 - val_accuracy: 0.6515 - val_loss: 0.6607\n",
      "Epoch 28/50\n",
      "\u001b[1m69/69\u001b[0m \u001b[32m━━━━━━━━━━━━━━━━━━━━\u001b[0m\u001b[37m\u001b[0m \u001b[1m0s\u001b[0m 5ms/step - accuracy: 0.6941 - loss: 0.5882 - val_accuracy: 0.6542 - val_loss: 0.6468\n",
      "Epoch 29/50\n",
      "\u001b[1m69/69\u001b[0m \u001b[32m━━━━━━━━━━━━━━━━━━━━\u001b[0m\u001b[37m\u001b[0m \u001b[1m0s\u001b[0m 5ms/step - accuracy: 0.6865 - loss: 0.5877 - val_accuracy: 0.6497 - val_loss: 0.6522\n",
      "Epoch 30/50\n",
      "\u001b[1m69/69\u001b[0m \u001b[32m━━━━━━━━━━━━━━━━━━━━\u001b[0m\u001b[37m\u001b[0m \u001b[1m0s\u001b[0m 6ms/step - accuracy: 0.6999 - loss: 0.5793 - val_accuracy: 0.6451 - val_loss: 0.6691\n",
      "Epoch 31/50\n",
      "\u001b[1m69/69\u001b[0m \u001b[32m━━━━━━━━━━━━━━━━━━━━\u001b[0m\u001b[37m\u001b[0m \u001b[1m0s\u001b[0m 5ms/step - accuracy: 0.7014 - loss: 0.5784 - val_accuracy: 0.6342 - val_loss: 0.6778\n",
      "Epoch 32/50\n",
      "\u001b[1m69/69\u001b[0m \u001b[32m━━━━━━━━━━━━━━━━━━━━\u001b[0m\u001b[37m\u001b[0m \u001b[1m0s\u001b[0m 4ms/step - accuracy: 0.7069 - loss: 0.5724 - val_accuracy: 0.6233 - val_loss: 0.6831\n",
      "Epoch 33/50\n",
      "\u001b[1m69/69\u001b[0m \u001b[32m━━━━━━━━━━━━━━━━━━━━\u001b[0m\u001b[37m\u001b[0m \u001b[1m0s\u001b[0m 5ms/step - accuracy: 0.7085 - loss: 0.5693 - val_accuracy: 0.6324 - val_loss: 0.6847\n",
      "Epoch 34/50\n",
      "\u001b[1m69/69\u001b[0m \u001b[32m━━━━━━━━━━━━━━━━━━━━\u001b[0m\u001b[37m\u001b[0m \u001b[1m0s\u001b[0m 4ms/step - accuracy: 0.7035 - loss: 0.5607 - val_accuracy: 0.6251 - val_loss: 0.6850\n",
      "Epoch 35/50\n",
      "\u001b[1m69/69\u001b[0m \u001b[32m━━━━━━━━━━━━━━━━━━━━\u001b[0m\u001b[37m\u001b[0m \u001b[1m0s\u001b[0m 5ms/step - accuracy: 0.7044 - loss: 0.5637 - val_accuracy: 0.6433 - val_loss: 0.7233\n",
      "Epoch 36/50\n",
      "\u001b[1m69/69\u001b[0m \u001b[32m━━━━━━━━━━━━━━━━━━━━\u001b[0m\u001b[37m\u001b[0m \u001b[1m0s\u001b[0m 4ms/step - accuracy: 0.7152 - loss: 0.5435 - val_accuracy: 0.6233 - val_loss: 0.6968\n",
      "Epoch 37/50\n",
      "\u001b[1m69/69\u001b[0m \u001b[32m━━━━━━━━━━━━━━━━━━━━\u001b[0m\u001b[37m\u001b[0m \u001b[1m0s\u001b[0m 5ms/step - accuracy: 0.7188 - loss: 0.5470 - val_accuracy: 0.6197 - val_loss: 0.7123\n",
      "Epoch 38/50\n",
      "\u001b[1m69/69\u001b[0m \u001b[32m━━━━━━━━━━━━━━━━━━━━\u001b[0m\u001b[37m\u001b[0m \u001b[1m0s\u001b[0m 4ms/step - accuracy: 0.7288 - loss: 0.5267 - val_accuracy: 0.6269 - val_loss: 0.7025\n",
      "Epoch 39/50\n",
      "\u001b[1m69/69\u001b[0m \u001b[32m━━━━━━━━━━━━━━━━━━━━\u001b[0m\u001b[37m\u001b[0m \u001b[1m0s\u001b[0m 4ms/step - accuracy: 0.7290 - loss: 0.5305 - val_accuracy: 0.6333 - val_loss: 0.7325\n",
      "Epoch 40/50\n",
      "\u001b[1m69/69\u001b[0m \u001b[32m━━━━━━━━━━━━━━━━━━━━\u001b[0m\u001b[37m\u001b[0m \u001b[1m0s\u001b[0m 4ms/step - accuracy: 0.7270 - loss: 0.5256 - val_accuracy: 0.6078 - val_loss: 0.7216\n",
      "Epoch 41/50\n",
      "\u001b[1m69/69\u001b[0m \u001b[32m━━━━━━━━━━━━━━━━━━━━\u001b[0m\u001b[37m\u001b[0m \u001b[1m0s\u001b[0m 4ms/step - accuracy: 0.7372 - loss: 0.5156 - val_accuracy: 0.5996 - val_loss: 0.7108\n",
      "Epoch 42/50\n",
      "\u001b[1m69/69\u001b[0m \u001b[32m━━━━━━━━━━━━━━━━━━━━\u001b[0m\u001b[37m\u001b[0m \u001b[1m0s\u001b[0m 5ms/step - accuracy: 0.7382 - loss: 0.5069 - val_accuracy: 0.5660 - val_loss: 0.7420\n",
      "Epoch 43/50\n",
      "\u001b[1m69/69\u001b[0m \u001b[32m━━━━━━━━━━━━━━━━━━━━\u001b[0m\u001b[37m\u001b[0m \u001b[1m0s\u001b[0m 4ms/step - accuracy: 0.7462 - loss: 0.5052 - val_accuracy: 0.6151 - val_loss: 0.7760\n",
      "Epoch 44/50\n",
      "\u001b[1m69/69\u001b[0m \u001b[32m━━━━━━━━━━━━━━━━━━━━\u001b[0m\u001b[37m\u001b[0m \u001b[1m0s\u001b[0m 4ms/step - accuracy: 0.7522 - loss: 0.4909 - val_accuracy: 0.6096 - val_loss: 0.7941\n",
      "Epoch 45/50\n",
      "\u001b[1m69/69\u001b[0m \u001b[32m━━━━━━━━━━━━━━━━━━━━\u001b[0m\u001b[37m\u001b[0m \u001b[1m0s\u001b[0m 4ms/step - accuracy: 0.7575 - loss: 0.4832 - val_accuracy: 0.6242 - val_loss: 0.7924\n",
      "Epoch 46/50\n",
      "\u001b[1m69/69\u001b[0m \u001b[32m━━━━━━━━━━━━━━━━━━━━\u001b[0m\u001b[37m\u001b[0m \u001b[1m0s\u001b[0m 4ms/step - accuracy: 0.7682 - loss: 0.4732 - val_accuracy: 0.5823 - val_loss: 0.8127\n",
      "Epoch 47/50\n",
      "\u001b[1m69/69\u001b[0m \u001b[32m━━━━━━━━━━━━━━━━━━━━\u001b[0m\u001b[37m\u001b[0m \u001b[1m0s\u001b[0m 4ms/step - accuracy: 0.7765 - loss: 0.4604 - val_accuracy: 0.6115 - val_loss: 0.8380\n",
      "Epoch 48/50\n",
      "\u001b[1m69/69\u001b[0m \u001b[32m━━━━━━━━━━━━━━━━━━━━\u001b[0m\u001b[37m\u001b[0m \u001b[1m0s\u001b[0m 4ms/step - accuracy: 0.7852 - loss: 0.4425 - val_accuracy: 0.5924 - val_loss: 0.8172\n",
      "Epoch 49/50\n",
      "\u001b[1m69/69\u001b[0m \u001b[32m━━━━━━━━━━━━━━━━━━━━\u001b[0m\u001b[37m\u001b[0m \u001b[1m0s\u001b[0m 4ms/step - accuracy: 0.7805 - loss: 0.4463 - val_accuracy: 0.5960 - val_loss: 0.8452\n",
      "Epoch 50/50\n",
      "\u001b[1m69/69\u001b[0m \u001b[32m━━━━━━━━━━━━━━━━━━━━\u001b[0m\u001b[37m\u001b[0m \u001b[1m0s\u001b[0m 4ms/step - accuracy: 0.7891 - loss: 0.4376 - val_accuracy: 0.5760 - val_loss: 0.9072\n",
      "\u001b[1m20/20\u001b[0m \u001b[32m━━━━━━━━━━━━━━━━━━━━\u001b[0m\u001b[37m\u001b[0m \u001b[1m0s\u001b[0m 1ms/step - accuracy: 0.5621 - loss: 0.9078 \n",
      "cnn accuracy: 0.5695580840110779\n"
     ]
    }
   ],
   "source": [
    "from tensorflow.keras.layers import Conv1D, MaxPooling1D, Flatten\n",
    "\n",
    "# Reshape data for CNN\n",
    "X_train_reshaped = X_train.values.reshape(-1, X_train.shape[1], 1)\n",
    "X_test_reshaped = X_test.values.reshape(-1, X_test.shape[1], 1)\n",
    "\n",
    "# Define the model\n",
    "cnn = Sequential([\n",
    "    Conv1D(filters=64, kernel_size=3, activation='relu', input_shape=(X_train.shape[1], 1)),\n",
    "    MaxPooling1D(pool_size=2),\n",
    "    Conv1D(filters=128, kernel_size=3, activation='relu'),\n",
    "    MaxPooling1D(pool_size=2),\n",
    "    Flatten(),\n",
    "    Dense(128, activation='relu'),\n",
    "    Dense(64, activation='relu'),\n",
    "    Dense(1, activation='sigmoid')\n",
    "])\n",
    "\n",
    "# Compile the model\n",
    "cnn.compile(optimizer='adam', loss='binary_crossentropy', metrics=['accuracy'])\n",
    "\n",
    "# Train the model\n",
    "cnn.fit(X_train_reshaped, y_train, epochs=50, batch_size=64, validation_split=0.2)\n",
    "\n",
    "# Evaluate the model\n",
    "loss, accuracy = cnn.evaluate(X_test_reshaped, y_test)\n",
    "print(\"cnn accuracy:\", accuracy)\n",
    "# probabilities = model2.predict(X_test)\n",
    "# print(\"Probabilities:\\n\", probabilities)"
   ]
  },
  {
   "cell_type": "markdown",
   "metadata": {},
   "source": [
    "### MLP model"
   ]
  },
  {
   "cell_type": "code",
   "execution_count": 9,
   "metadata": {},
   "outputs": [
    {
     "name": "stdout",
     "output_type": "stream",
     "text": [
      "Epoch 1/50\n"
     ]
    },
    {
     "name": "stderr",
     "output_type": "stream",
     "text": [
      "/Users/lakhanbhansali/Documents/projects/Stock_market_prediction/env/lib/python3.11/site-packages/keras/src/layers/core/dense.py:87: UserWarning: Do not pass an `input_shape`/`input_dim` argument to a layer. When using Sequential models, prefer using an `Input(shape)` object as the first layer in the model instead.\n",
      "  super().__init__(activity_regularizer=activity_regularizer, **kwargs)\n"
     ]
    },
    {
     "name": "stdout",
     "output_type": "stream",
     "text": [
      "\u001b[1m69/69\u001b[0m \u001b[32m━━━━━━━━━━━━━━━━━━━━\u001b[0m\u001b[37m\u001b[0m \u001b[1m3s\u001b[0m 6ms/step - accuracy: 0.5310 - loss: 0.9806 - val_accuracy: 0.6706 - val_loss: 0.6832\n",
      "Epoch 2/50\n",
      "\u001b[1m69/69\u001b[0m \u001b[32m━━━━━━━━━━━━━━━━━━━━\u001b[0m\u001b[37m\u001b[0m \u001b[1m0s\u001b[0m 2ms/step - accuracy: 0.6286 - loss: 0.7044 - val_accuracy: 0.6706 - val_loss: 0.6747\n",
      "Epoch 3/50\n",
      "\u001b[1m69/69\u001b[0m \u001b[32m━━━━━━━━━━━━━━━━━━━━\u001b[0m\u001b[37m\u001b[0m \u001b[1m0s\u001b[0m 2ms/step - accuracy: 0.6464 - loss: 0.6857 - val_accuracy: 0.6706 - val_loss: 0.6661\n",
      "Epoch 4/50\n",
      "\u001b[1m69/69\u001b[0m \u001b[32m━━━━━━━━━━━━━━━━━━━━\u001b[0m\u001b[37m\u001b[0m \u001b[1m0s\u001b[0m 2ms/step - accuracy: 0.6712 - loss: 0.6687 - val_accuracy: 0.6706 - val_loss: 0.6583\n",
      "Epoch 5/50\n",
      "\u001b[1m69/69\u001b[0m \u001b[32m━━━━━━━━━━━━━━━━━━━━\u001b[0m\u001b[37m\u001b[0m \u001b[1m0s\u001b[0m 2ms/step - accuracy: 0.6572 - loss: 0.6622 - val_accuracy: 0.6706 - val_loss: 0.6512\n",
      "Epoch 6/50\n",
      "\u001b[1m69/69\u001b[0m \u001b[32m━━━━━━━━━━━━━━━━━━━━\u001b[0m\u001b[37m\u001b[0m \u001b[1m0s\u001b[0m 2ms/step - accuracy: 0.6621 - loss: 0.6558 - val_accuracy: 0.6706 - val_loss: 0.6459\n",
      "Epoch 7/50\n",
      "\u001b[1m69/69\u001b[0m \u001b[32m━━━━━━━━━━━━━━━━━━━━\u001b[0m\u001b[37m\u001b[0m \u001b[1m0s\u001b[0m 2ms/step - accuracy: 0.6747 - loss: 0.6465 - val_accuracy: 0.6706 - val_loss: 0.6422\n",
      "Epoch 8/50\n",
      "\u001b[1m69/69\u001b[0m \u001b[32m━━━━━━━━━━━━━━━━━━━━\u001b[0m\u001b[37m\u001b[0m \u001b[1m0s\u001b[0m 2ms/step - accuracy: 0.6651 - loss: 0.6470 - val_accuracy: 0.6706 - val_loss: 0.6399\n",
      "Epoch 9/50\n",
      "\u001b[1m69/69\u001b[0m \u001b[32m━━━━━━━━━━━━━━━━━━━━\u001b[0m\u001b[37m\u001b[0m \u001b[1m0s\u001b[0m 2ms/step - accuracy: 0.6700 - loss: 0.6407 - val_accuracy: 0.6706 - val_loss: 0.6376\n",
      "Epoch 10/50\n",
      "\u001b[1m69/69\u001b[0m \u001b[32m━━━━━━━━━━━━━━━━━━━━\u001b[0m\u001b[37m\u001b[0m \u001b[1m0s\u001b[0m 2ms/step - accuracy: 0.6698 - loss: 0.6420 - val_accuracy: 0.6706 - val_loss: 0.6366\n",
      "Epoch 11/50\n",
      "\u001b[1m69/69\u001b[0m \u001b[32m━━━━━━━━━━━━━━━━━━━━\u001b[0m\u001b[37m\u001b[0m \u001b[1m0s\u001b[0m 2ms/step - accuracy: 0.6724 - loss: 0.6409 - val_accuracy: 0.6706 - val_loss: 0.6358\n",
      "Epoch 12/50\n",
      "\u001b[1m69/69\u001b[0m \u001b[32m━━━━━━━━━━━━━━━━━━━━\u001b[0m\u001b[37m\u001b[0m \u001b[1m0s\u001b[0m 2ms/step - accuracy: 0.6722 - loss: 0.6392 - val_accuracy: 0.6706 - val_loss: 0.6353\n",
      "Epoch 13/50\n",
      "\u001b[1m69/69\u001b[0m \u001b[32m━━━━━━━━━━━━━━━━━━━━\u001b[0m\u001b[37m\u001b[0m \u001b[1m0s\u001b[0m 2ms/step - accuracy: 0.6738 - loss: 0.6345 - val_accuracy: 0.6706 - val_loss: 0.6349\n",
      "Epoch 14/50\n",
      "\u001b[1m69/69\u001b[0m \u001b[32m━━━━━━━━━━━━━━━━━━━━\u001b[0m\u001b[37m\u001b[0m \u001b[1m0s\u001b[0m 2ms/step - accuracy: 0.6710 - loss: 0.6371 - val_accuracy: 0.6706 - val_loss: 0.6345\n",
      "Epoch 15/50\n",
      "\u001b[1m69/69\u001b[0m \u001b[32m━━━━━━━━━━━━━━━━━━━━\u001b[0m\u001b[37m\u001b[0m \u001b[1m0s\u001b[0m 2ms/step - accuracy: 0.6719 - loss: 0.6371 - val_accuracy: 0.6706 - val_loss: 0.6344\n",
      "Epoch 16/50\n",
      "\u001b[1m69/69\u001b[0m \u001b[32m━━━━━━━━━━━━━━━━━━━━\u001b[0m\u001b[37m\u001b[0m \u001b[1m0s\u001b[0m 3ms/step - accuracy: 0.6735 - loss: 0.6341 - val_accuracy: 0.6706 - val_loss: 0.6342\n",
      "Epoch 17/50\n",
      "\u001b[1m69/69\u001b[0m \u001b[32m━━━━━━━━━━━━━━━━━━━━\u001b[0m\u001b[37m\u001b[0m \u001b[1m0s\u001b[0m 2ms/step - accuracy: 0.6648 - loss: 0.6389 - val_accuracy: 0.6706 - val_loss: 0.6342\n",
      "Epoch 18/50\n",
      "\u001b[1m69/69\u001b[0m \u001b[32m━━━━━━━━━━━━━━━━━━━━\u001b[0m\u001b[37m\u001b[0m \u001b[1m0s\u001b[0m 2ms/step - accuracy: 0.6690 - loss: 0.6361 - val_accuracy: 0.6706 - val_loss: 0.6341\n",
      "Epoch 19/50\n",
      "\u001b[1m69/69\u001b[0m \u001b[32m━━━━━━━━━━━━━━━━━━━━\u001b[0m\u001b[37m\u001b[0m \u001b[1m0s\u001b[0m 2ms/step - accuracy: 0.6710 - loss: 0.6351 - val_accuracy: 0.6706 - val_loss: 0.6340\n",
      "Epoch 20/50\n",
      "\u001b[1m69/69\u001b[0m \u001b[32m━━━━━━━━━━━━━━━━━━━━\u001b[0m\u001b[37m\u001b[0m \u001b[1m0s\u001b[0m 2ms/step - accuracy: 0.6695 - loss: 0.6370 - val_accuracy: 0.6706 - val_loss: 0.6340\n",
      "Epoch 21/50\n",
      "\u001b[1m69/69\u001b[0m \u001b[32m━━━━━━━━━━━━━━━━━━━━\u001b[0m\u001b[37m\u001b[0m \u001b[1m0s\u001b[0m 2ms/step - accuracy: 0.6731 - loss: 0.6320 - val_accuracy: 0.6706 - val_loss: 0.6339\n",
      "Epoch 22/50\n",
      "\u001b[1m69/69\u001b[0m \u001b[32m━━━━━━━━━━━━━━━━━━━━\u001b[0m\u001b[37m\u001b[0m \u001b[1m0s\u001b[0m 2ms/step - accuracy: 0.6682 - loss: 0.6388 - val_accuracy: 0.6706 - val_loss: 0.6340\n",
      "Epoch 23/50\n",
      "\u001b[1m69/69\u001b[0m \u001b[32m━━━━━━━━━━━━━━━━━━━━\u001b[0m\u001b[37m\u001b[0m \u001b[1m0s\u001b[0m 2ms/step - accuracy: 0.6755 - loss: 0.6312 - val_accuracy: 0.6706 - val_loss: 0.6339\n",
      "Epoch 24/50\n",
      "\u001b[1m69/69\u001b[0m \u001b[32m━━━━━━━━━━━━━━━━━━━━\u001b[0m\u001b[37m\u001b[0m \u001b[1m0s\u001b[0m 2ms/step - accuracy: 0.6774 - loss: 0.6291 - val_accuracy: 0.6706 - val_loss: 0.6339\n",
      "Epoch 25/50\n",
      "\u001b[1m69/69\u001b[0m \u001b[32m━━━━━━━━━━━━━━━━━━━━\u001b[0m\u001b[37m\u001b[0m \u001b[1m0s\u001b[0m 2ms/step - accuracy: 0.6671 - loss: 0.6380 - val_accuracy: 0.6706 - val_loss: 0.6339\n",
      "Epoch 26/50\n",
      "\u001b[1m69/69\u001b[0m \u001b[32m━━━━━━━━━━━━━━━━━━━━\u001b[0m\u001b[37m\u001b[0m \u001b[1m0s\u001b[0m 2ms/step - accuracy: 0.6593 - loss: 0.6410 - val_accuracy: 0.6706 - val_loss: 0.6338\n",
      "Epoch 27/50\n",
      "\u001b[1m69/69\u001b[0m \u001b[32m━━━━━━━━━━━━━━━━━━━━\u001b[0m\u001b[37m\u001b[0m \u001b[1m0s\u001b[0m 2ms/step - accuracy: 0.6833 - loss: 0.6252 - val_accuracy: 0.6706 - val_loss: 0.6339\n",
      "Epoch 28/50\n",
      "\u001b[1m69/69\u001b[0m \u001b[32m━━━━━━━━━━━━━━━━━━━━\u001b[0m\u001b[37m\u001b[0m \u001b[1m0s\u001b[0m 2ms/step - accuracy: 0.6710 - loss: 0.6334 - val_accuracy: 0.6706 - val_loss: 0.6339\n",
      "Epoch 29/50\n",
      "\u001b[1m69/69\u001b[0m \u001b[32m━━━━━━━━━━━━━━━━━━━━\u001b[0m\u001b[37m\u001b[0m \u001b[1m0s\u001b[0m 3ms/step - accuracy: 0.6750 - loss: 0.6314 - val_accuracy: 0.6706 - val_loss: 0.6339\n",
      "Epoch 30/50\n",
      "\u001b[1m69/69\u001b[0m \u001b[32m━━━━━━━━━━━━━━━━━━━━\u001b[0m\u001b[37m\u001b[0m \u001b[1m0s\u001b[0m 2ms/step - accuracy: 0.6541 - loss: 0.6447 - val_accuracy: 0.6706 - val_loss: 0.6339\n",
      "Epoch 31/50\n",
      "\u001b[1m69/69\u001b[0m \u001b[32m━━━━━━━━━━━━━━━━━━━━\u001b[0m\u001b[37m\u001b[0m \u001b[1m0s\u001b[0m 3ms/step - accuracy: 0.6740 - loss: 0.6320 - val_accuracy: 0.6706 - val_loss: 0.6339\n",
      "Epoch 32/50\n",
      "\u001b[1m69/69\u001b[0m \u001b[32m━━━━━━━━━━━━━━━━━━━━\u001b[0m\u001b[37m\u001b[0m \u001b[1m0s\u001b[0m 3ms/step - accuracy: 0.6641 - loss: 0.6394 - val_accuracy: 0.6706 - val_loss: 0.6338\n",
      "Epoch 33/50\n",
      "\u001b[1m69/69\u001b[0m \u001b[32m━━━━━━━━━━━━━━━━━━━━\u001b[0m\u001b[37m\u001b[0m \u001b[1m0s\u001b[0m 3ms/step - accuracy: 0.6641 - loss: 0.6392 - val_accuracy: 0.6706 - val_loss: 0.6338\n",
      "Epoch 34/50\n",
      "\u001b[1m69/69\u001b[0m \u001b[32m━━━━━━━━━━━━━━━━━━━━\u001b[0m\u001b[37m\u001b[0m \u001b[1m0s\u001b[0m 2ms/step - accuracy: 0.6774 - loss: 0.6286 - val_accuracy: 0.6706 - val_loss: 0.6336\n",
      "Epoch 35/50\n",
      "\u001b[1m69/69\u001b[0m \u001b[32m━━━━━━━━━━━━━━━━━━━━\u001b[0m\u001b[37m\u001b[0m \u001b[1m0s\u001b[0m 2ms/step - accuracy: 0.6794 - loss: 0.6271 - val_accuracy: 0.6706 - val_loss: 0.6336\n",
      "Epoch 36/50\n",
      "\u001b[1m69/69\u001b[0m \u001b[32m━━━━━━━━━━━━━━━━━━━━\u001b[0m\u001b[37m\u001b[0m \u001b[1m0s\u001b[0m 2ms/step - accuracy: 0.6690 - loss: 0.6360 - val_accuracy: 0.6706 - val_loss: 0.6336\n",
      "Epoch 37/50\n",
      "\u001b[1m69/69\u001b[0m \u001b[32m━━━━━━━━━━━━━━━━━━━━\u001b[0m\u001b[37m\u001b[0m \u001b[1m0s\u001b[0m 4ms/step - accuracy: 0.6806 - loss: 0.6280 - val_accuracy: 0.6706 - val_loss: 0.6337\n",
      "Epoch 38/50\n",
      "\u001b[1m69/69\u001b[0m \u001b[32m━━━━━━━━━━━━━━━━━━━━\u001b[0m\u001b[37m\u001b[0m \u001b[1m0s\u001b[0m 3ms/step - accuracy: 0.6713 - loss: 0.6328 - val_accuracy: 0.6706 - val_loss: 0.6336\n",
      "Epoch 39/50\n",
      "\u001b[1m69/69\u001b[0m \u001b[32m━━━━━━━━━━━━━━━━━━━━\u001b[0m\u001b[37m\u001b[0m \u001b[1m0s\u001b[0m 2ms/step - accuracy: 0.6723 - loss: 0.6336 - val_accuracy: 0.6706 - val_loss: 0.6335\n",
      "Epoch 40/50\n",
      "\u001b[1m69/69\u001b[0m \u001b[32m━━━━━━━━━━━━━━━━━━━━\u001b[0m\u001b[37m\u001b[0m \u001b[1m0s\u001b[0m 3ms/step - accuracy: 0.6704 - loss: 0.6342 - val_accuracy: 0.6706 - val_loss: 0.6336\n",
      "Epoch 41/50\n",
      "\u001b[1m69/69\u001b[0m \u001b[32m━━━━━━━━━━━━━━━━━━━━\u001b[0m\u001b[37m\u001b[0m \u001b[1m0s\u001b[0m 3ms/step - accuracy: 0.6679 - loss: 0.6357 - val_accuracy: 0.6706 - val_loss: 0.6335\n",
      "Epoch 42/50\n",
      "\u001b[1m69/69\u001b[0m \u001b[32m━━━━━━━━━━━━━━━━━━━━\u001b[0m\u001b[37m\u001b[0m \u001b[1m0s\u001b[0m 3ms/step - accuracy: 0.6772 - loss: 0.6287 - val_accuracy: 0.6706 - val_loss: 0.6336\n",
      "Epoch 43/50\n",
      "\u001b[1m69/69\u001b[0m \u001b[32m━━━━━━━━━━━━━━━━━━━━\u001b[0m\u001b[37m\u001b[0m \u001b[1m0s\u001b[0m 3ms/step - accuracy: 0.6734 - loss: 0.6311 - val_accuracy: 0.6706 - val_loss: 0.6336\n",
      "Epoch 44/50\n",
      "\u001b[1m69/69\u001b[0m \u001b[32m━━━━━━━━━━━━━━━━━━━━\u001b[0m\u001b[37m\u001b[0m \u001b[1m0s\u001b[0m 2ms/step - accuracy: 0.6741 - loss: 0.6320 - val_accuracy: 0.6706 - val_loss: 0.6337\n",
      "Epoch 45/50\n",
      "\u001b[1m69/69\u001b[0m \u001b[32m━━━━━━━━━━━━━━━━━━━━\u001b[0m\u001b[37m\u001b[0m \u001b[1m0s\u001b[0m 2ms/step - accuracy: 0.6722 - loss: 0.6325 - val_accuracy: 0.6706 - val_loss: 0.6338\n",
      "Epoch 46/50\n",
      "\u001b[1m69/69\u001b[0m \u001b[32m━━━━━━━━━━━━━━━━━━━━\u001b[0m\u001b[37m\u001b[0m \u001b[1m0s\u001b[0m 2ms/step - accuracy: 0.6618 - loss: 0.6411 - val_accuracy: 0.6706 - val_loss: 0.6337\n",
      "Epoch 47/50\n",
      "\u001b[1m69/69\u001b[0m \u001b[32m━━━━━━━━━━━━━━━━━━━━\u001b[0m\u001b[37m\u001b[0m \u001b[1m0s\u001b[0m 2ms/step - accuracy: 0.6745 - loss: 0.6307 - val_accuracy: 0.6706 - val_loss: 0.6337\n",
      "Epoch 48/50\n",
      "\u001b[1m69/69\u001b[0m \u001b[32m━━━━━━━━━━━━━━━━━━━━\u001b[0m\u001b[37m\u001b[0m \u001b[1m0s\u001b[0m 2ms/step - accuracy: 0.6652 - loss: 0.6380 - val_accuracy: 0.6706 - val_loss: 0.6337\n",
      "Epoch 49/50\n",
      "\u001b[1m69/69\u001b[0m \u001b[32m━━━━━━━━━━━━━━━━━━━━\u001b[0m\u001b[37m\u001b[0m \u001b[1m0s\u001b[0m 2ms/step - accuracy: 0.6661 - loss: 0.6367 - val_accuracy: 0.6706 - val_loss: 0.6337\n",
      "Epoch 50/50\n",
      "\u001b[1m69/69\u001b[0m \u001b[32m━━━━━━━━━━━━━━━━━━━━\u001b[0m\u001b[37m\u001b[0m \u001b[1m0s\u001b[0m 2ms/step - accuracy: 0.6626 - loss: 0.6402 - val_accuracy: 0.6706 - val_loss: 0.6337\n",
      "\u001b[1m20/20\u001b[0m \u001b[32m━━━━━━━━━━━━━━━━━━━━\u001b[0m\u001b[37m\u001b[0m \u001b[1m0s\u001b[0m 1ms/step - accuracy: 0.6586 - loss: 0.6424 \n",
      "MLP Accuracy: 0.6743044257164001\n"
     ]
    }
   ],
   "source": [
    "mlp = Sequential([\n",
    "    Dense(128, activation='relu', input_shape=(X_train.shape[1],)),\n",
    "    Dropout(0.5),\n",
    "    Dense(64, activation='relu'),\n",
    "    Dropout(0.5),\n",
    "    Dense(32, activation='relu'),\n",
    "    Dropout(0.5),\n",
    "    Dense(16, activation='relu'),\n",
    "    Dropout(0.5),\n",
    "    Dense(8, activation='relu'),\n",
    "    Dropout(0.5),\n",
    "    Dense(4, activation='relu'),\n",
    "    Dropout(0.5),\n",
    "    Dense(1, activation='sigmoid')  # Output layer with sigmoid activation\n",
    "])\n",
    "# Compile the model\n",
    "mlp.compile(optimizer='adam', loss='binary_crossentropy', metrics=['accuracy'])\n",
    "# Train the model\n",
    "history = mlp.fit(X_train, y_train, epochs=50, batch_size=64, validation_split=0.2)\n",
    "\n",
    "# Evaluate the model\n",
    "loss, accuracy = mlp.evaluate(X_test, y_test)\n",
    "print(\"MLP Accuracy:\", accuracy)"
   ]
  },
  {
   "cell_type": "markdown",
   "metadata": {},
   "source": [
    "### AUTOEncoder Model"
   ]
  },
  {
   "cell_type": "code",
   "execution_count": 10,
   "metadata": {},
   "outputs": [
    {
     "name": "stdout",
     "output_type": "stream",
     "text": [
      "Epoch 1/50\n"
     ]
    },
    {
     "name": "stderr",
     "output_type": "stream",
     "text": [
      "/Users/lakhanbhansali/Documents/projects/Stock_market_prediction/env/lib/python3.11/site-packages/keras/src/layers/core/dense.py:87: UserWarning: Do not pass an `input_shape`/`input_dim` argument to a layer. When using Sequential models, prefer using an `Input(shape)` object as the first layer in the model instead.\n",
      "  super().__init__(activity_regularizer=activity_regularizer, **kwargs)\n"
     ]
    },
    {
     "name": "stdout",
     "output_type": "stream",
     "text": [
      "\u001b[1m69/69\u001b[0m \u001b[32m━━━━━━━━━━━━━━━━━━━━\u001b[0m\u001b[37m\u001b[0m \u001b[1m3s\u001b[0m 7ms/step - accuracy: 0.5566 - loss: 0.7222 - val_accuracy: 0.6706 - val_loss: 0.6545\n",
      "Epoch 2/50\n",
      "\u001b[1m69/69\u001b[0m \u001b[32m━━━━━━━━━━━━━━━━━━━━\u001b[0m\u001b[37m\u001b[0m \u001b[1m0s\u001b[0m 3ms/step - accuracy: 0.6553 - loss: 0.6545 - val_accuracy: 0.6706 - val_loss: 0.6479\n",
      "Epoch 3/50\n",
      "\u001b[1m69/69\u001b[0m \u001b[32m━━━━━━━━━━━━━━━━━━━━\u001b[0m\u001b[37m\u001b[0m \u001b[1m0s\u001b[0m 3ms/step - accuracy: 0.6684 - loss: 0.6471 - val_accuracy: 0.6706 - val_loss: 0.6429\n",
      "Epoch 4/50\n",
      "\u001b[1m69/69\u001b[0m \u001b[32m━━━━━━━━━━━━━━━━━━━━\u001b[0m\u001b[37m\u001b[0m \u001b[1m0s\u001b[0m 3ms/step - accuracy: 0.6728 - loss: 0.6405 - val_accuracy: 0.6706 - val_loss: 0.6404\n",
      "Epoch 5/50\n",
      "\u001b[1m69/69\u001b[0m \u001b[32m━━━━━━━━━━━━━━━━━━━━\u001b[0m\u001b[37m\u001b[0m \u001b[1m0s\u001b[0m 3ms/step - accuracy: 0.6779 - loss: 0.6382 - val_accuracy: 0.6706 - val_loss: 0.6384\n",
      "Epoch 6/50\n",
      "\u001b[1m69/69\u001b[0m \u001b[32m━━━━━━━━━━━━━━━━━━━━\u001b[0m\u001b[37m\u001b[0m \u001b[1m0s\u001b[0m 3ms/step - accuracy: 0.6614 - loss: 0.6490 - val_accuracy: 0.6706 - val_loss: 0.6355\n",
      "Epoch 7/50\n",
      "\u001b[1m69/69\u001b[0m \u001b[32m━━━━━━━━━━━━━━━━━━━━\u001b[0m\u001b[37m\u001b[0m \u001b[1m0s\u001b[0m 3ms/step - accuracy: 0.6623 - loss: 0.6495 - val_accuracy: 0.6706 - val_loss: 0.6342\n",
      "Epoch 8/50\n",
      "\u001b[1m69/69\u001b[0m \u001b[32m━━━━━━━━━━━━━━━━━━━━\u001b[0m\u001b[37m\u001b[0m \u001b[1m0s\u001b[0m 3ms/step - accuracy: 0.6746 - loss: 0.6369 - val_accuracy: 0.6706 - val_loss: 0.6348\n",
      "Epoch 9/50\n",
      "\u001b[1m69/69\u001b[0m \u001b[32m━━━━━━━━━━━━━━━━━━━━\u001b[0m\u001b[37m\u001b[0m \u001b[1m0s\u001b[0m 3ms/step - accuracy: 0.6755 - loss: 0.6319 - val_accuracy: 0.6706 - val_loss: 0.6349\n",
      "Epoch 10/50\n",
      "\u001b[1m69/69\u001b[0m \u001b[32m━━━━━━━━━━━━━━━━━━━━\u001b[0m\u001b[37m\u001b[0m \u001b[1m0s\u001b[0m 3ms/step - accuracy: 0.6857 - loss: 0.6220 - val_accuracy: 0.6706 - val_loss: 0.6353\n",
      "Epoch 11/50\n",
      "\u001b[1m69/69\u001b[0m \u001b[32m━━━━━━━━━━━━━━━━━━━━\u001b[0m\u001b[37m\u001b[0m \u001b[1m0s\u001b[0m 3ms/step - accuracy: 0.6694 - loss: 0.6376 - val_accuracy: 0.6706 - val_loss: 0.6342\n",
      "Epoch 12/50\n",
      "\u001b[1m69/69\u001b[0m \u001b[32m━━━━━━━━━━━━━━━━━━━━\u001b[0m\u001b[37m\u001b[0m \u001b[1m0s\u001b[0m 3ms/step - accuracy: 0.6673 - loss: 0.6398 - val_accuracy: 0.6706 - val_loss: 0.6343\n",
      "Epoch 13/50\n",
      "\u001b[1m69/69\u001b[0m \u001b[32m━━━━━━━━━━━━━━━━━━━━\u001b[0m\u001b[37m\u001b[0m \u001b[1m0s\u001b[0m 3ms/step - accuracy: 0.6830 - loss: 0.6285 - val_accuracy: 0.6706 - val_loss: 0.6346\n",
      "Epoch 14/50\n",
      "\u001b[1m69/69\u001b[0m \u001b[32m━━━━━━━━━━━━━━━━━━━━\u001b[0m\u001b[37m\u001b[0m \u001b[1m0s\u001b[0m 2ms/step - accuracy: 0.6760 - loss: 0.6324 - val_accuracy: 0.6706 - val_loss: 0.6340\n",
      "Epoch 15/50\n",
      "\u001b[1m69/69\u001b[0m \u001b[32m━━━━━━━━━━━━━━━━━━━━\u001b[0m\u001b[37m\u001b[0m \u001b[1m0s\u001b[0m 3ms/step - accuracy: 0.6800 - loss: 0.6319 - val_accuracy: 0.6706 - val_loss: 0.6341\n",
      "Epoch 16/50\n",
      "\u001b[1m69/69\u001b[0m \u001b[32m━━━━━━━━━━━━━━━━━━━━\u001b[0m\u001b[37m\u001b[0m \u001b[1m0s\u001b[0m 5ms/step - accuracy: 0.6690 - loss: 0.6394 - val_accuracy: 0.6706 - val_loss: 0.6338\n",
      "Epoch 17/50\n",
      "\u001b[1m69/69\u001b[0m \u001b[32m━━━━━━━━━━━━━━━━━━━━\u001b[0m\u001b[37m\u001b[0m \u001b[1m0s\u001b[0m 4ms/step - accuracy: 0.6673 - loss: 0.6374 - val_accuracy: 0.6706 - val_loss: 0.6338\n",
      "Epoch 18/50\n",
      "\u001b[1m69/69\u001b[0m \u001b[32m━━━━━━━━━━━━━━━━━━━━\u001b[0m\u001b[37m\u001b[0m \u001b[1m0s\u001b[0m 3ms/step - accuracy: 0.6720 - loss: 0.6333 - val_accuracy: 0.6706 - val_loss: 0.6340\n",
      "Epoch 19/50\n",
      "\u001b[1m69/69\u001b[0m \u001b[32m━━━━━━━━━━━━━━━━━━━━\u001b[0m\u001b[37m\u001b[0m \u001b[1m0s\u001b[0m 3ms/step - accuracy: 0.6831 - loss: 0.6279 - val_accuracy: 0.6706 - val_loss: 0.6346\n",
      "Epoch 20/50\n",
      "\u001b[1m69/69\u001b[0m \u001b[32m━━━━━━━━━━━━━━━━━━━━\u001b[0m\u001b[37m\u001b[0m \u001b[1m0s\u001b[0m 4ms/step - accuracy: 0.6776 - loss: 0.6317 - val_accuracy: 0.6706 - val_loss: 0.6344\n",
      "Epoch 21/50\n",
      "\u001b[1m69/69\u001b[0m \u001b[32m━━━━━━━━━━━━━━━━━━━━\u001b[0m\u001b[37m\u001b[0m \u001b[1m0s\u001b[0m 3ms/step - accuracy: 0.6744 - loss: 0.6330 - val_accuracy: 0.6706 - val_loss: 0.6345\n",
      "Epoch 22/50\n",
      "\u001b[1m69/69\u001b[0m \u001b[32m━━━━━━━━━━━━━━━━━━━━\u001b[0m\u001b[37m\u001b[0m \u001b[1m0s\u001b[0m 3ms/step - accuracy: 0.6780 - loss: 0.6292 - val_accuracy: 0.6706 - val_loss: 0.6341\n",
      "Epoch 23/50\n",
      "\u001b[1m69/69\u001b[0m \u001b[32m━━━━━━━━━━━━━━━━━━━━\u001b[0m\u001b[37m\u001b[0m \u001b[1m0s\u001b[0m 3ms/step - accuracy: 0.6787 - loss: 0.6284 - val_accuracy: 0.6706 - val_loss: 0.6346\n",
      "Epoch 24/50\n",
      "\u001b[1m69/69\u001b[0m \u001b[32m━━━━━━━━━━━━━━━━━━━━\u001b[0m\u001b[37m\u001b[0m \u001b[1m0s\u001b[0m 3ms/step - accuracy: 0.6621 - loss: 0.6417 - val_accuracy: 0.6706 - val_loss: 0.6340\n",
      "Epoch 25/50\n",
      "\u001b[1m69/69\u001b[0m \u001b[32m━━━━━━━━━━━━━━━━━━━━\u001b[0m\u001b[37m\u001b[0m \u001b[1m0s\u001b[0m 3ms/step - accuracy: 0.6803 - loss: 0.6300 - val_accuracy: 0.6706 - val_loss: 0.6340\n",
      "Epoch 26/50\n",
      "\u001b[1m69/69\u001b[0m \u001b[32m━━━━━━━━━━━━━━━━━━━━\u001b[0m\u001b[37m\u001b[0m \u001b[1m0s\u001b[0m 3ms/step - accuracy: 0.6703 - loss: 0.6346 - val_accuracy: 0.6706 - val_loss: 0.6340\n",
      "Epoch 27/50\n",
      "\u001b[1m69/69\u001b[0m \u001b[32m━━━━━━━━━━━━━━━━━━━━\u001b[0m\u001b[37m\u001b[0m \u001b[1m0s\u001b[0m 3ms/step - accuracy: 0.6783 - loss: 0.6313 - val_accuracy: 0.6706 - val_loss: 0.6343\n",
      "Epoch 28/50\n",
      "\u001b[1m69/69\u001b[0m \u001b[32m━━━━━━━━━━━━━━━━━━━━\u001b[0m\u001b[37m\u001b[0m \u001b[1m0s\u001b[0m 3ms/step - accuracy: 0.6762 - loss: 0.6324 - val_accuracy: 0.6706 - val_loss: 0.6343\n",
      "Epoch 29/50\n",
      "\u001b[1m69/69\u001b[0m \u001b[32m━━━━━━━━━━━━━━━━━━━━\u001b[0m\u001b[37m\u001b[0m \u001b[1m0s\u001b[0m 3ms/step - accuracy: 0.6738 - loss: 0.6301 - val_accuracy: 0.6706 - val_loss: 0.6343\n",
      "Epoch 30/50\n",
      "\u001b[1m69/69\u001b[0m \u001b[32m━━━━━━━━━━━━━━━━━━━━\u001b[0m\u001b[37m\u001b[0m \u001b[1m0s\u001b[0m 3ms/step - accuracy: 0.6625 - loss: 0.6388 - val_accuracy: 0.6706 - val_loss: 0.6337\n",
      "Epoch 31/50\n",
      "\u001b[1m69/69\u001b[0m \u001b[32m━━━━━━━━━━━━━━━━━━━━\u001b[0m\u001b[37m\u001b[0m \u001b[1m0s\u001b[0m 3ms/step - accuracy: 0.6656 - loss: 0.6403 - val_accuracy: 0.6706 - val_loss: 0.6336\n",
      "Epoch 32/50\n",
      "\u001b[1m69/69\u001b[0m \u001b[32m━━━━━━━━━━━━━━━━━━━━\u001b[0m\u001b[37m\u001b[0m \u001b[1m0s\u001b[0m 3ms/step - accuracy: 0.6713 - loss: 0.6352 - val_accuracy: 0.6706 - val_loss: 0.6341\n",
      "Epoch 33/50\n",
      "\u001b[1m69/69\u001b[0m \u001b[32m━━━━━━━━━━━━━━━━━━━━\u001b[0m\u001b[37m\u001b[0m \u001b[1m0s\u001b[0m 3ms/step - accuracy: 0.6732 - loss: 0.6310 - val_accuracy: 0.6706 - val_loss: 0.6342\n",
      "Epoch 34/50\n",
      "\u001b[1m69/69\u001b[0m \u001b[32m━━━━━━━━━━━━━━━━━━━━\u001b[0m\u001b[37m\u001b[0m \u001b[1m0s\u001b[0m 3ms/step - accuracy: 0.6771 - loss: 0.6306 - val_accuracy: 0.6706 - val_loss: 0.6342\n",
      "Epoch 35/50\n",
      "\u001b[1m69/69\u001b[0m \u001b[32m━━━━━━━━━━━━━━━━━━━━\u001b[0m\u001b[37m\u001b[0m \u001b[1m0s\u001b[0m 3ms/step - accuracy: 0.6643 - loss: 0.6387 - val_accuracy: 0.6706 - val_loss: 0.6337\n",
      "Epoch 36/50\n",
      "\u001b[1m69/69\u001b[0m \u001b[32m━━━━━━━━━━━━━━━━━━━━\u001b[0m\u001b[37m\u001b[0m \u001b[1m0s\u001b[0m 3ms/step - accuracy: 0.6757 - loss: 0.6304 - val_accuracy: 0.6706 - val_loss: 0.6341\n",
      "Epoch 37/50\n",
      "\u001b[1m69/69\u001b[0m \u001b[32m━━━━━━━━━━━━━━━━━━━━\u001b[0m\u001b[37m\u001b[0m \u001b[1m0s\u001b[0m 3ms/step - accuracy: 0.6676 - loss: 0.6354 - val_accuracy: 0.6706 - val_loss: 0.6341\n",
      "Epoch 38/50\n",
      "\u001b[1m69/69\u001b[0m \u001b[32m━━━━━━━━━━━━━━━━━━━━\u001b[0m\u001b[37m\u001b[0m \u001b[1m0s\u001b[0m 3ms/step - accuracy: 0.6689 - loss: 0.6338 - val_accuracy: 0.6706 - val_loss: 0.6337\n",
      "Epoch 39/50\n",
      "\u001b[1m69/69\u001b[0m \u001b[32m━━━━━━━━━━━━━━━━━━━━\u001b[0m\u001b[37m\u001b[0m \u001b[1m0s\u001b[0m 3ms/step - accuracy: 0.6657 - loss: 0.6349 - val_accuracy: 0.6706 - val_loss: 0.6332\n",
      "Epoch 40/50\n",
      "\u001b[1m69/69\u001b[0m \u001b[32m━━━━━━━━━━━━━━━━━━━━\u001b[0m\u001b[37m\u001b[0m \u001b[1m0s\u001b[0m 3ms/step - accuracy: 0.6705 - loss: 0.6340 - val_accuracy: 0.6706 - val_loss: 0.6345\n",
      "Epoch 41/50\n",
      "\u001b[1m69/69\u001b[0m \u001b[32m━━━━━━━━━━━━━━━━━━━━\u001b[0m\u001b[37m\u001b[0m \u001b[1m0s\u001b[0m 4ms/step - accuracy: 0.6698 - loss: 0.6326 - val_accuracy: 0.6706 - val_loss: 0.6340\n",
      "Epoch 42/50\n",
      "\u001b[1m69/69\u001b[0m \u001b[32m━━━━━━━━━━━━━━━━━━━━\u001b[0m\u001b[37m\u001b[0m \u001b[1m0s\u001b[0m 3ms/step - accuracy: 0.6781 - loss: 0.6286 - val_accuracy: 0.6706 - val_loss: 0.6339\n",
      "Epoch 43/50\n",
      "\u001b[1m69/69\u001b[0m \u001b[32m━━━━━━━━━━━━━━━━━━━━\u001b[0m\u001b[37m\u001b[0m \u001b[1m0s\u001b[0m 3ms/step - accuracy: 0.6773 - loss: 0.6266 - val_accuracy: 0.6706 - val_loss: 0.6329\n",
      "Epoch 44/50\n",
      "\u001b[1m69/69\u001b[0m \u001b[32m━━━━━━━━━━━━━━━━━━━━\u001b[0m\u001b[37m\u001b[0m \u001b[1m0s\u001b[0m 3ms/step - accuracy: 0.6655 - loss: 0.6414 - val_accuracy: 0.6706 - val_loss: 0.6341\n",
      "Epoch 45/50\n",
      "\u001b[1m69/69\u001b[0m \u001b[32m━━━━━━━━━━━━━━━━━━━━\u001b[0m\u001b[37m\u001b[0m \u001b[1m0s\u001b[0m 3ms/step - accuracy: 0.6721 - loss: 0.6313 - val_accuracy: 0.6706 - val_loss: 0.6335\n",
      "Epoch 46/50\n",
      "\u001b[1m69/69\u001b[0m \u001b[32m━━━━━━━━━━━━━━━━━━━━\u001b[0m\u001b[37m\u001b[0m \u001b[1m0s\u001b[0m 3ms/step - accuracy: 0.6651 - loss: 0.6364 - val_accuracy: 0.6706 - val_loss: 0.6337\n",
      "Epoch 47/50\n",
      "\u001b[1m69/69\u001b[0m \u001b[32m━━━━━━━━━━━━━━━━━━━━\u001b[0m\u001b[37m\u001b[0m \u001b[1m0s\u001b[0m 3ms/step - accuracy: 0.6698 - loss: 0.6345 - val_accuracy: 0.6706 - val_loss: 0.6333\n",
      "Epoch 48/50\n",
      "\u001b[1m69/69\u001b[0m \u001b[32m━━━━━━━━━━━━━━━━━━━━\u001b[0m\u001b[37m\u001b[0m \u001b[1m0s\u001b[0m 3ms/step - accuracy: 0.6666 - loss: 0.6352 - val_accuracy: 0.6706 - val_loss: 0.6333\n",
      "Epoch 49/50\n",
      "\u001b[1m69/69\u001b[0m \u001b[32m━━━━━━━━━━━━━━━━━━━━\u001b[0m\u001b[37m\u001b[0m \u001b[1m0s\u001b[0m 3ms/step - accuracy: 0.6851 - loss: 0.6208 - val_accuracy: 0.6706 - val_loss: 0.6334\n",
      "Epoch 50/50\n",
      "\u001b[1m69/69\u001b[0m \u001b[32m━━━━━━━━━━━━━━━━━━━━\u001b[0m\u001b[37m\u001b[0m \u001b[1m0s\u001b[0m 3ms/step - accuracy: 0.6670 - loss: 0.6337 - val_accuracy: 0.6706 - val_loss: 0.6338\n",
      "\u001b[1m20/20\u001b[0m \u001b[32m━━━━━━━━━━━━━━━━━━━━\u001b[0m\u001b[37m\u001b[0m \u001b[1m0s\u001b[0m 1ms/step - accuracy: 0.6586 - loss: 0.6420 \n",
      "AutoEncoder Accuracy: 0.6743044257164001\n"
     ]
    }
   ],
   "source": [
    "ae = Sequential([\n",
    "    Dense(128, activation='relu', input_shape=(X_train.shape[1],)),\n",
    "    Dropout(0.5),\n",
    "    Dense(64, activation='relu'),\n",
    "    Dropout(0.5),\n",
    "    Dense(32, activation='relu'),\n",
    "    Dropout(0.5),\n",
    "    Dense(64, activation='relu'),\n",
    "    Dropout(0.5),\n",
    "    Dense(128, activation='relu'),\n",
    "    Dropout(0.5),\n",
    "    Dense(32, activation='relu'),\n",
    "    Dropout(0.5),\n",
    "    Dense(1, activation='sigmoid')  # Output layer with sigmoid activation\n",
    "])\n",
    "# Compile the model\n",
    "ae.compile(optimizer='adam', loss='binary_crossentropy', metrics=['accuracy'])\n",
    "\n",
    "# Train the model\n",
    "history = ae.fit(X_train, y_train, epochs=50, batch_size=64, validation_split=0.2)\n",
    "\n",
    "# Evaluate the model\n",
    "loss, accuracy = ae.evaluate(X_test, y_test)\n",
    "print(\"AutoEncoder Accuracy:\", accuracy)"
   ]
  },
  {
   "cell_type": "markdown",
   "metadata": {},
   "source": [
    "### BiLSTM Model"
   ]
  },
  {
   "cell_type": "code",
   "execution_count": 11,
   "metadata": {},
   "outputs": [
    {
     "name": "stdout",
     "output_type": "stream",
     "text": [
      "Epoch 1/5\n"
     ]
    },
    {
     "name": "stderr",
     "output_type": "stream",
     "text": [
      "/Users/lakhanbhansali/Documents/projects/Stock_market_prediction/env/lib/python3.11/site-packages/keras/src/layers/rnn/rnn.py:204: UserWarning: Do not pass an `input_shape`/`input_dim` argument to a layer. When using Sequential models, prefer using an `Input(shape)` object as the first layer in the model instead.\n",
      "  super().__init__(**kwargs)\n"
     ]
    },
    {
     "name": "stdout",
     "output_type": "stream",
     "text": [
      "\u001b[1m69/69\u001b[0m \u001b[32m━━━━━━━━━━━━━━━━━━━━\u001b[0m\u001b[37m\u001b[0m \u001b[1m14s\u001b[0m 74ms/step - accuracy: 0.6495 - loss: 0.6905 - val_accuracy: 0.6706 - val_loss: 0.6825\n",
      "Epoch 2/5\n",
      "\u001b[1m69/69\u001b[0m \u001b[32m━━━━━━━━━━━━━━━━━━━━\u001b[0m\u001b[37m\u001b[0m \u001b[1m5s\u001b[0m 66ms/step - accuracy: 0.6821 - loss: 0.6793 - val_accuracy: 0.6706 - val_loss: 0.6736\n",
      "Epoch 3/5\n",
      "\u001b[1m69/69\u001b[0m \u001b[32m━━━━━━━━━━━━━━━━━━━━\u001b[0m\u001b[37m\u001b[0m \u001b[1m5s\u001b[0m 68ms/step - accuracy: 0.6740 - loss: 0.6712 - val_accuracy: 0.6706 - val_loss: 0.6662\n",
      "Epoch 4/5\n",
      "\u001b[1m69/69\u001b[0m \u001b[32m━━━━━━━━━━━━━━━━━━━━\u001b[0m\u001b[37m\u001b[0m \u001b[1m4s\u001b[0m 60ms/step - accuracy: 0.6595 - loss: 0.6667 - val_accuracy: 0.6706 - val_loss: 0.6599\n",
      "Epoch 5/5\n",
      "\u001b[1m69/69\u001b[0m \u001b[32m━━━━━━━━━━━━━━━━━━━━\u001b[0m\u001b[37m\u001b[0m \u001b[1m4s\u001b[0m 63ms/step - accuracy: 0.6765 - loss: 0.6570 - val_accuracy: 0.6706 - val_loss: 0.6545\n",
      "\u001b[1m20/20\u001b[0m \u001b[32m━━━━━━━━━━━━━━━━━━━━\u001b[0m\u001b[37m\u001b[0m \u001b[1m0s\u001b[0m 13ms/step - accuracy: 0.6586 - loss: 0.6580\n",
      "BiLSTM Accuracy: 0.6743044257164001\n"
     ]
    }
   ],
   "source": [
    "from tensorflow.keras.layers import LSTM, Bidirectional\n",
    "\n",
    "# Define the model\n",
    "bilstm = Sequential([\n",
    "    Bidirectional(LSTM(128, return_sequences=True, input_shape=(X_train.shape[1], 1))),\n",
    "    Bidirectional(LSTM(64)),\n",
    "    Dense(32, activation='relu'),\n",
    "    Dense(16, activation='relu'),\n",
    "    Dense(8, activation='relu'),\n",
    "    Dense(4, activation='relu'),\n",
    "    Dense(2, activation='relu'),\n",
    "    Dense(1, activation='sigmoid')\n",
    "])\n",
    "\n",
    "# Reshape data for LSTM\n",
    "X_train_rnn = X_train.values.reshape(-1, X_train.shape[1], 1)\n",
    "X_test_rnn = X_test.values.reshape(-1, X_test.shape[1], 1)\n",
    "\n",
    "# Compile the model\n",
    "bilstm.compile(optimizer='adam', loss='binary_crossentropy', metrics=['accuracy'])\n",
    "\n",
    "# Train the model\n",
    "bilstm.fit(X_train_rnn, y_train, epochs=5, batch_size=64, validation_split=0.2)\n",
    "\n",
    "# Evaluate the model\n",
    "loss, accuracy = bilstm.evaluate(X_test_rnn, y_test)\n",
    "print(\"BiLSTM Accuracy:\", accuracy)"
   ]
  },
  {
   "cell_type": "markdown",
   "metadata": {},
   "source": [
    "### Results"
   ]
  },
  {
   "cell_type": "code",
   "execution_count": 12,
   "metadata": {},
   "outputs": [],
   "source": [
    "\n",
    "def evaluate_model(model, X_test, y_test):\n",
    "    \"\"\"\n",
    "    Evaluate a given model and plot confusion matrix and classification report.\n",
    "    \n",
    "    Parameters:\n",
    "    model (object): Trained model to evaluate.\n",
    "    X_test (array-like): Features for the test set.\n",
    "    y_test (array-like): True labels for the test set.\n",
    "    \"\"\"\n",
    "    # Predict probabilities\n",
    "    probabilities = model.predict(X_test)\n",
    "    \n",
    "    # Filter probabilities lower than 0.20 or higher than 0.80\n",
    "    filtered_indices = (probabilities < 0.20) | (probabilities > 0.80)\n",
    "    filtered_probabilities = probabilities[filtered_indices]\n",
    "    filtered_actuals = y_test[filtered_indices.flatten()]\n",
    "    \n",
    "    # Get predicted classes\n",
    "    predicted_classes = (filtered_probabilities > 0.5).astype(int)\n",
    "    \n",
    "    # Create a DataFrame for actual vs. predicted\n",
    "    results = pd.DataFrame({\n",
    "        'Actual': filtered_actuals,\n",
    "        'Predicted': predicted_classes.flatten(),\n",
    "        'Probability': filtered_probabilities.flatten()\n",
    "    })\n",
    "    \n",
    "    # Confusion Matrix\n",
    "    conf_matrix = confusion_matrix(filtered_actuals, predicted_classes)\n",
    "    \n",
    "    # Plot the confusion matrix\n",
    "    plt.figure(figsize=(8, 6))\n",
    "    sns.heatmap(conf_matrix, annot=True, fmt='d', cmap='Blues', xticklabels=['Predicted 0', 'Predicted 1'], yticklabels=['Actual 0', 'Actual 1'])\n",
    "    plt.xlabel('Predicted Label')\n",
    "    plt.ylabel('True Label')\n",
    "    plt.title('Confusion Matrix')\n",
    "    plt.show()\n",
    "    \n",
    "    # Classification Report\n",
    "    class_report = classification_report(filtered_actuals, predicted_classes, output_dict=True)\n",
    "    \n",
    "    # Convert the classification report to a DataFrame\n",
    "    report_df = pd.DataFrame(class_report).transpose()\n",
    "    \n",
    "    # Plot the classification report\n",
    "    plt.figure(figsize=(10, 6))\n",
    "    sns.heatmap(report_df.iloc[:-1, :].T, annot=True, cmap='coolwarm', fmt='.2f')\n",
    "    plt.title('Classification Report')\n",
    "    plt.yticks(rotation=0)\n",
    "    plt.show()\n"
   ]
  },
  {
   "cell_type": "code",
   "execution_count": 13,
   "metadata": {},
   "outputs": [
    {
     "name": "stdout",
     "output_type": "stream",
     "text": [
      "\u001b[1m20/20\u001b[0m \u001b[32m━━━━━━━━━━━━━━━━━━━━\u001b[0m\u001b[37m\u001b[0m \u001b[1m0s\u001b[0m 6ms/step\n"
     ]
    },
    {
     "data": {
      "image/png": "[encoded data removed]",
      "text/plain": [
       "<Figure size 800x600 with 2 Axes>"
      ]
     },
     "metadata": {},
     "output_type": "display_data"
    },
    {
     "data": {
      "image/png": "[encoded data removed]",
      "text/plain": [
       "<Figure size 1000x600 with 2 Axes>"
      ]
     },
     "metadata": {},
     "output_type": "display_data"
    }
   ],
   "source": [
    "evaluate_model(cnn, X_test, y_test)"
   ]
  },
  {
   "cell_type": "markdown",
   "metadata": {},
   "source": []
  }
 ],
 "metadata": {
  "kernelspec": {
   "display_name": "env",
   "language": "python",
   "name": "env"
  },
  "language_info": {
   "codemirror_mode": {
    "name": "ipython",
    "version": 3
   },
   "file_extension": ".py",
   "mimetype": "text/x-python",
   "name": "python",
   "nbconvert_exporter": "python",
   "pygments_lexer": "ipython3",
   "version": "3.11.3"
  }
 },
 "nbformat": 4,
 "nbformat_minor": 2
}
